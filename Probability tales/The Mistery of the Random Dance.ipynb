{
 "cells": [
  {
   "cell_type": "markdown",
   "metadata": {},
   "source": [
    "# The Mistery of the Random Dance\n",
    "\n",
    "_We begin this story with a walk. A strange walk indeed, of a person with no goals, aimlessly wandering on a path with two directions. For that troubled soul, right and left are the same; no offers, no traveled distancies, are enough to break the simmetry. Each miserable step has an equal chance to go either side, always. After many equally equal steps, what can we know about that sad individual's place in the world?_"
   ]
  },
  {
   "cell_type": "markdown",
   "metadata": {},
   "source": [
    "## The Binomial\n",
    "\n",
    "Too bad the walker has no goals, we have. Let's formalize!\n",
    "\n",
    "So this walk, it is a chain of events, each event is a step. The step can be viewed as a random variable. It can assume 2 possible values, right and left, each with equal probability of $1/2$. Well, we make it cooler, here the probability of a right step will be $p$ and the probability of a left step will be $1-p$.\n",
    "\n",
    "This is a well determined situation:\n",
    "1. A random variable assuming two possible values\n",
    "2. The whole event is a sequence, a chain, of realizations of that variable\n",
    "3. Throughout the chain the probability distribution of that variable remains the same, it is constant\n",
    "\n",
    "These assumptions define a binomial process, having a specified probability distribution, called binomial distribution. If we remove assumption 1, allowing for any positive integer number of values, we have a multinomial distribution (a generalized case for which the binomial is the particular case of a 2 valued variable). If we remove assumption 2, we have a chain of 1 realization, and the probability distribution reduces to that one of the variable itself. For this case of right with $p$ and left with $1-p$, it's called de bernoulli distribution, and is a special case of the binomial distribution, the one for the particular number of 1 step. If we remove assumption 3, the probability distribution keeps changing at each step. If it's a function of the walker's position only, we call it a markovian chain (and a markovian chain would be any chain that uses only the actual place to calculate the step probabilities, with any number of possible values for steps). Keeping all of them, we are with the binomial.\n",
    "\n",
    "Now see that, in order to know the position of the walker after $N$ steps (for a chain of size $N$), it suffices to know the number of steps taken to the right, or to the left. Say we have $n$ steps to the right (making it $N-n$ steps to the left), our displacement from the beginning of the walk is given by $x = right-left = n - (N-n) = 2n-N$. So, we model the binomial distribution in terms of number of steps to the right, as it is the most natural way to code the sequence of random realizations (it is the same as the sum of the random variable, considering that steps to the right are successes, with value equal to 1, and steps to the left are fails, with value equal to 0).\n",
    "\n",
    "Meet the quantity of interest here, the binomial distribution $P_N(n)$, the probability of taking $n$ steps to the right, given $N$ trials. Let's visualize it. Suppose that our walk goes like this: we take steps only to the right until we take all the $n$ steps, then we take the rest, $N-n$ steps, to the left, all sequentially too. What is the probability of it happening in this specific way?\n",
    "\n",
    "First, we go right, with $p$. And we go right again, with $p$. We do this $n$ times, with probability $p^n$. Then we go left, with $1-p$. And left again, $N-n$ times, ending up with $p^n(1-p)^{N-n}$. That is the probability of occurrence for this specific chain. But hey, if we switch the last right step with the first left step, we have $p^n(1-p)p(1-p)^{N-n-1}$. That's the same, and it makes sense, the order of the steps doesn't matter, just how many of each type we took. So, all the chains with the same number of right steps, $n$, have the same probability of occurrence and end up at the same final place.\n",
    "\n",
    "What we have to do is just to count all possible chains for $n$. The number of chains times their probability of ocurrence will give us the probability of taking $n$ steps, irrespectively of how that went. Nice. How many chains are there? We can take all combinations of the chain that has $n$ steps to the right and $N-n$ steps to the left. That number is the binomial between $N$ and $n$, or between $N$ and $N-n$, it's the same. Right, but why? All combinations of chains containing $N$ different objects is $N!$, we have $N$ possibilities to place the first, times $N-1$ possibilities to replace the second, because one of them was chosen to be the first, and so on, until we have just 1 possibility for the last spot. Now, if $n$ of them are the same, all permutations between them give the same chain, so we factor out these permutations, that happen to be $n!$ (why do we divide by $n!$ and not, for example, subtract? Try to visualize this one). Well, if the remaining objects are all the same too, of a second type, we factor out their permutations too, that happen to be $(N-n)!$. That's all:\n",
    "\n",
    "$\\binom{N}{n} = \\binom{N}{N-n} = \\frac{N!}{n!(N-n)!}$.\n",
    "\n",
    "Hey, we already have it. This binomial is the number of chains with $n$ steps to the right, and we calculated their probability of occurrence. Here is the binomial distribution:\n",
    "\n",
    "$ P_N(n) = \\binom{N}{n}p^n(1-p)^{N-n}$.\n",
    "\n",
    "Answering the question, for the aimless walker we have $p=1/2$, symmetric steps. The probability of taking $n$ steps to the right is:\n",
    "\n",
    "$ P_N(n) = \\binom{N}{n}(\\frac{1}{2})^{N} $.\n",
    "\n",
    "In terms of the displacement, $x$, it is the probability of ending up at place $x$ in relation to the origin of the walk:\n",
    "\n",
    "$ P_N(x) = \\binom{N}{\\frac{N+x}{2}}(\\frac{1}{2})^{N} $.\n",
    "\n",
    "It's done! Notice that $x$ has some restrictions for its possible values. Find that out."
   ]
  },
  {
   "cell_type": "markdown",
   "metadata": {},
   "source": [
    "## The Dance\n",
    "\n",
    "_For the walker's delight, another soul appeared. Another aimless walker, living the same fate and the same sadness. The two of them meet, face to face, and the fire of their instant bond lights a beautiful dance. They are so used to walking randomly that the dance is no different, but now they want something; they want to reach each other at the end. One wonders, what are the chances of such a specific synchronized wandering?_\n",
    "\n",
    "Here we have a joint random walk with both walkers having to end the walk at the same place, the random dance. It is better for the walkers, but uglier for us. How can we determine the chances of that happening?\n",
    "\n",
    "Hmm... They can end up at both at the origin again, or both one step away from the origin, at either side, or both two steps away, at either side, and so on. What do they have in common? To end up at the same place after $N$ steps each, already starting from the same place, they must take the same number of steps to the right. The precise chain may be different, they can take any of the $\\binom{N}{n}$ chain for each value of $n$. Let's then calculate the joint probability distribution of them bith taking $n$ right steps out of $N$, irrespective of the order.\n",
    "\n",
    "Luckily, their walks are independent, they don't have to consult each other to take steps, there is no mutual influence. So the joint probability distribution is just the product of their single distributions, $P(A,B)=P(A)P(B)$ for independent variables. We have:\n",
    "\n",
    "$ D_N(n,n) = \\binom{N}{n}(\\frac{1}{2})^N\\binom{N}{n}(\\frac{1}{2})^N = \\binom{N}{n}^2(\\frac{1}{2})^{2N} $.\n",
    "\n",
    "This is the probability of them each giving $n$ steps to the right and then ending at the same place. But they can end at the same place for every possibility of steps to the right, from zero to $N$. What we want is:\n",
    "\n",
    "$ D_N = \\sum_{m=0}^N D_N(m,m) = \\sum_{m=0}^N \\binom{N}{m}^2(\\frac{1}{2})^{2N} = (\\frac{1}{2})^{2N}\\sum_{m=0}^N \\binom{N}{m}^2 $.\n",
    "\n",
    "Now I must be honest. I don't know what else to do, how can I execute this sum? A squared binomial? How crazy! I have many sum of binomials' relations in my toolbox, but not this one. I'm deeply sorry. This is the end of the line, that is our answer."
   ]
  },
  {
   "cell_type": "markdown",
   "metadata": {},
   "source": [
    "## The Solo\n",
    "\n",
    "_Oh, love, what a insatiable creative force. The rapture of the mutual dance was so intense that it inspired elaborated mating solos among them. During the spetacular solo, one person watches the other randomly twisting away executing a double sized dance, and keeps longing for them to finally return to a lovely embrace of souls._\n",
    "\n",
    "Hey, hey, that's interesting. What if we redeem ourselves by calculating the chances of that encounter, after the solo? So, the solo consists of a random walk of $2N$ steps, and we need the walker to return to the origin. It's just the probability of taking half of the steps to the right and half to the left, making $x$, the displacement, equal to zero. So:\n",
    "\n",
    "$ S_{2N} = P_{2N}(N) = \\binom{2N}{N} (\\frac{1}{2})^{2N} $.\n",
    "\n",
    "Oh, it's already over. Hehe. But hold on, hold on. I'm thinking of something. Hey, the solo isn't different at all from the random dance! Their relative distance is equivalent in both performances. Consider the dance from the point of view of one dancer. The other dancer takes a step. Ok, they are away or closer by 1. Now, our dancer takes a step. But from this perspective, our dancer didn't move, the world moved in the opposite direction, like when we walk it really is the rest of the world that is walking back, we stay at the same place, our place (since we were born, actually, and until the end of our lives). So, the effect of our dancer taking a step is the same as the other dancer taking the opposite step. But if it goes like this, at the end our dancer didn't move, and the other dancer took all the $N+N$ steps, theirs and ours. And we ending up together is the same as them returning to us. Wow, $S_{2N}=Q_N$, that is:\n",
    "\n",
    "$ (\\frac{1}{2})^{2N}\\sum_{m=0}^N \\binom{N}{m}^2 = \\binom{2N}{N} (\\frac{1}{2})^{2N} $\n",
    "\n",
    "Or even better:\n",
    "\n",
    "$ \\sum_{m=0}^N \\binom{N}{m}^2 = \\binom{2N}{N} $\n",
    "\n",
    "We got a closed answer to our problem and we got the sum! But... we didn't execute the sum, we cheated it. Oh haha, it's  such a good sensation to cheat a problem away. Only that... how can we visualize this equality? I look at the expression and all I see is a mistery. That's the problem with cheating, though. Like taking the flute of Mario world, we can get way ahead doing that, but we lose the connection between here and there, we lose a part of the game. Our joy has been killed by the urge to know further. How can we solve this?"
   ]
  },
  {
   "cell_type": "markdown",
   "metadata": {},
   "source": [
    "## The Mistery\n",
    "\n",
    "Let's keep calm, we can do this. So binomials are these permutations of stuff. Hmm... Now think of that chain of steps as a chain of balls of 2 different colors. There are $2N$ balls, $N$ are red and $N$ are blue. If we simply take all possible combinations, as we have seen, we get the binomial of $2N$ with $N$ balls of one type and $N$ balls of the other. So all possible combinations give the closed term of our sum, $\\binom{2N}{N}$. Can we visualize these permutations as the actual sum of squared binomials? If we can, that is the solution of our problem.\n",
    "\n",
    "We have there the binomial $\\binom{N}{m}$, so we need to build that kind of permutation. Following that, let's break the chain in half. We have now one side with $N$ balls, some of them are red and some are blue. The other side also has $N$ balls and contains the rest of the red and blue balls. Suppose we have $m$ red balls in the first chain. Then we have $N-m$ blue balls there. But that means that in the other chain the amount of balls is switched, there we have $N-m$ red balls and $m$ blue balls. If we remember that $\\binom{N}{m} = \\binom{N}{N-m}$, we see that the number of permutations of the first chain is equal to the number of permutations of the second chain. That number is equal to the binomial we have. But what about the combined permutations of the two chains? For each possibility of the first, we add every possibility of the second to the combined number. This means that the total number of combinations between the two chains is the product of the two, $\\binom{N}{m}\\binom{N}{N-m} = \\binom{N}{m}^2$.\n",
    "\n",
    "An important question: does that cover all possible permutations of the whole chain as long as we always have $m$ red balls in the first half of the chain? Yes, it does. Think about it and convince yourself. If we now allow $m$ to be any value between no red balls in the first half (then all blue balls) and all the $N$ red balls in the first half (then no blue balls), if we take all possibilities from $m$ between zero and $N$, we really are covering all possible chains of $2N$ balls with half red and half blue. That is just the sum $\\sum_{m=0}^N$ of the squared binomial and also the closed $2N$ binomial. That finishes the bridge: $ \\sum_{m=0}^N \\binom{N}{m}^2 = \\binom{2N}{N} $.\n",
    "\n",
    "Well, that was a fun, convoluted, way of working out a sum, right?\n",
    "\n",
    "_And the random dance between the lovers, once lost wanderers, kept going on forever. Their intense dancing emotions kept creating swing inspired equivalencies, emerging steps that are many faces of the same gods, unbounded, across the whole of existence._"
   ]
  },
  {
   "cell_type": "code",
   "execution_count": 1,
   "metadata": {},
   "outputs": [
    {
     "data": {
      "text/plain": [
       "True"
      ]
     },
     "execution_count": 1,
     "metadata": {},
     "output_type": "execute_result"
    }
   ],
   "source": [
    "from scipy import special\n",
    "\n",
    "N = 15\n",
    "A = special.binom(2*N,N)\n",
    "\n",
    "B = 0.0\n",
    "for m in range(N+1):\n",
    "    B += special.binom(N,m)**2\n",
    "    \n",
    "A == B"
   ]
  }
 ],
 "metadata": {
  "kernelspec": {
   "display_name": "Python 3",
   "language": "python",
   "name": "python3"
  },
  "language_info": {
   "codemirror_mode": {
    "name": "ipython",
    "version": 3
   },
   "file_extension": ".py",
   "mimetype": "text/x-python",
   "name": "python",
   "nbconvert_exporter": "python",
   "pygments_lexer": "ipython3",
   "version": "3.7.3"
  }
 },
 "nbformat": 4,
 "nbformat_minor": 2
}
