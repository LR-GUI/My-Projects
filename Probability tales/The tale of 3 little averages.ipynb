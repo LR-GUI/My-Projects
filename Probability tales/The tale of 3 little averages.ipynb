{
 "cells": [
  {
   "cell_type": "markdown",
   "metadata": {},
   "source": [
    "# The tale of 3 little averages\n",
    "\n",
    "Jack is a usually bored boy that now is happy, for he received a special gift. It is a magic toy, a bright object with $n$ numbered sides that has a very strange property. When Jack releases the toy, it magically shows one of its numbers, at random! Every time you release it, a random number is shown by magic.\n",
    "\n",
    "The boy, Jack, is obsessed, he invented a game. Every time he releases the toy, he scores a point. If the resulting number is his favorite number, he can continue to play and score points. If not, he loses, but then just starts over again. Jack has planned to play this game for the whole day.\n",
    "\n",
    "Now we are bored, just watching Jack's obsessive repetitions. Let's make our own game. Since we know some math, what if we try to find the number of points Jack is expected to score in each iteration of the game? Honestly, that seems kind of easy. Let's try to find the number of ways we can find Jack's expected score!"
   ]
  },
  {
   "cell_type": "markdown",
   "metadata": {},
   "source": [
    "## 1. The normal average\n",
    "\n",
    "The magic toy release is a random variable that can assume $n$ possible values. This enables us to define our own interest random variable, $X$, as follows: if the result is Jack's favorite number, our variable is $0$, and if it isn't, our variable is $1$. So, $X=1$ with probability $p=1/n$ and $X=0$ with probability $1-p$. As long as $X$ gives $1$, Jack keeps playing the game. So, at each iteration, we have a probability of $p$ to unlock a new iteration and a probability of $1-p$ to lose in the spot.\n",
    "\n",
    "Now, we don't want to calculate the expected value of $X$, we want the average number of game iterations. We want the expected value of a random variable built over $X$. This variable, $K$, the score, can assume all integer values, from $1$ up to infinity. What we want is, score of $1$ with $P(K=1)$, plus score of 2 with $P(K=2)$, plus score of 3 with $P(K=3)$, etc:\n",
    "\n",
    "$E(score) = E(K) = \\sum_{k=1}^{\\infty}kP(K=k)$.\n",
    "\n",
    "$P(K=k)$ is the probability of scoring exactly $k$ points, i.e., getting $k-1$ outcomes of $X=1$ and one last outcome of $X=0$. It's $p$, then $p$...$k-1$ times, then $1-p$. So $P(K=k)=p^{k-1}(1-p)$. We are all set for the math juggling and tricks:\n",
    "\n",
    "$E(K) = \\sum_{k=1}^{\\infty}kp^{k-1}(1-p) = (1-p)\\frac{\\partial}{\\partial p}\\sum_{k=1}^{\\infty}p^k = (1-p)\\frac{\\partial}{\\partial p} \\frac{p}{1-p} = (1-p)\\frac{1}{(1-p)^2} = \\frac{1}{1-p}=\\frac{n}{n-1}$.\n",
    "\n",
    "That's it, we did it. The expected number of points with the toy of $n$ sides is $\\frac{n}{n-1}$. We scored 1!"
   ]
  },
  {
   "cell_type": "markdown",
   "metadata": {},
   "source": [
    "## 2. The counting average\n",
    "\n",
    "Well, I must admit, that feels like a headbutt. Let's try to be fancy now. Yes, we begin with this fancy relation: multiplication is a sum, yet the sum is not a multiplication. Children are well aware of this.\n",
    "\n",
    "Take this multiplication, $ab$: $ab = b+b+b+..$ $a$ times. And $ab = a+a+a+...$ $b$ times. We all know how to count and that is all we need. Multiplication is the plural of sum (and exponentiation is the plural of multiplication).\n",
    "\n",
    "So, it's cool to not just look at multiplication as $ab$, but as:\n",
    "\n",
    "$ab = \\sum_{i=1}^{a}b = \\sum_{i=1}^{b}a$.\n",
    "\n",
    "Just another fancy consideration and we are good: a sum goes one way, a sum of sums can go two ways. I am talking about different orders of summation. Summing a sum of sums in one order is other than summing a sum of sums in the other order.\n",
    "\n",
    "This holds a piece of wisdom. Sometimes, when we are trying to solve a problem, it is good to ask ourselves whether that problem can become a particular angle of a more fancy problem with many angles. Math is full of that. Why? Well, because different angles are different; from another angle, the problem has another shape, one that can 1. be easier and 2. mean something different. Being aware of other sides of a problem can give us a lesser problem that is greater. Or just lesser, or just greater. Whatever, it's cool anyways.\n",
    "\n",
    "Ok, coming back now. Jack keeps playing. Let's apply all the fanciness in the math juggling. The first:\n",
    "\n",
    "$E(K) = \\sum_{k=1}^{\\infty}kP(K=k) = \\sum_{k=1}^{\\infty}\\sum_{i=1}^{k}P(K=k)$.\n",
    "\n",
    "The second:\n",
    "\n",
    "$E(K) = DoubleSum_{ki}P(K=k)=\\sum_{k=1}^{\\infty}\\sum_{i=1}^{k}P(K=k) = \\sum_{i=1}^{\\infty}\\sum_{k=i}^{\\infty}P(K=k)$.\n",
    "\n",
    "Note how the summation indexes change, it's not just a switch. Let's visualize these sums with out third eyes. Ok. Imagine the sum as a bucket of toys, each term is a toy. Let's throw everything on the floor and see what we have. We have only one $P(K=1)$, then we have two $P(K=2)$s, then three $P(K=3)$s and so on. Let's now organize them in families. In the first sum we have the gangs, the families of all $P(K=k)$s for every $k$. The $k$-family has $k$ members, that's why $k$ goes from 1 to infinite (these are the families) and $i$ goes from 1 to $k$, because it's counting the number of members in each family, $k$ members for the family $k$. In the second sum, $i$ is now counting the families and $k$ the number of members of each family. The families are now one of each kind of $k$. The first family has the whole collection. The second family almost has, but it lacks $P(K=1)$, there is only one and it is a member of the first family. The third family now doesn't have that $P(K=1)$ but also the $P(K=2)$, and so on. So here $i$ goes from 1 to infinity, we have a family for each kind of $k$. And $k$ goes from $i$ to infinite, because the members of the $i$ first kinds are no longer available to join. Cool, let's proceed:\n",
    "\n",
    "The first average used the first sum, now we juggle with the second and it's a different juggle:\n",
    "\n",
    "$E(k) = \\sum_{i=1}^{\\infty}\\sum_{k=i}^{\\infty}P(K=k) = \\sum_{i=1}^{\\infty} P(K \\geq i)$.\n",
    "\n",
    "That's easy, $P(K=k)$ is the probability of scoring exactly $k$. If Jack scores one $k$ he doesn't score any of the others, they are mutually exclusive. So $P(K=1)+P(K=2)$ is the probability of scoring exactly 1 or 2. Then the sum $P(K=i)+P(K=i+1)...$ is the probability of scoring greater than or equal to $i$.\n",
    "\n",
    "Going back to the game, for scoring greater than or equal to $i$, we must get $X=1$ at least $i$ times, and after this we can lose or keep going, we don't have to lose at score $i$ this time. So $P(K \\geq i) = p^{i-1}$:\n",
    "\n",
    "$E(K) = \\sum_{i=1}^{\\infty} P(K \\geq i) = \\sum_{i=1}^{\\infty}p^{i-1} = \\frac{1}{1-p}$.\n",
    "\n",
    "Oh, what a joke, just the geometric sum? Yes, no tricks. Here is our fancy equivalence, valid for infinite positive integer valued random variables:\n",
    "\n",
    "$E(K) = \\sum_k kP(K=k) = \\sum_i P(K \\geq i)$.\n",
    "\n",
    "Our score is 2 now. Hey, can't we do the other way? $P(K=k)$ terms of $k$? Sadly, I don't think so. $P(K=k)$ is not an integer, it's fine with me taking fractions os sums of $k$s, but that seems to warp the summation beyond our recognition. This individual is an alien: $\\sum_{i=1}^{P(K=k)}$."
   ]
  },
  {
   "cell_type": "markdown",
   "metadata": {},
   "source": [
    "## 3. The recursive average\n",
    "\n",
    "Hey, you know what? I am tired of summing, really. Luckily, Jack is now experiencing something insightful. He played one iteration of the game, but had to stop for a while. Now he's back and can't remember whether he lost or won that first iteration. What will I do? He thinks. But then, the insight kicks in: the whole game is many games and the whole of games is one game. Filled with realization, he just keeps going, fedding solely on the rush of long combo scoring strings.\n",
    "\n",
    "What does that mean? At each new iteration, Jack begins a new game inside that game. His expected additional score is just the same as the expected score for the whole game! We got a cool perspective to use now.\n",
    "\n",
    "Oh, also, if he doesn't lose at all and keeps playing one unique big game, never saving an individual game's score, he can score in the end, using the overall score and the overall not-score (this part will be used in the next section).\n",
    "\n",
    "Now let's build this new perspective. The first iteration goes, wih probability $1-p$ the game ends right there; with probability $p$ another iteration is given. I mean, another game is given inside that one. So, just two possibilities here, not infinite: our score is 1 with probability $1-p$ and is 1 plus the score of that game with probability $p$. This:\n",
    "\n",
    "$E(K) = (1-p)1 + p(1+E(K))$.\n",
    "\n",
    "Giving the same $E(K)=\\frac{1}{1-p}$. Oh my, how happy and easy! Our score is 3!!"
   ]
  },
  {
   "cell_type": "markdown",
   "metadata": {},
   "source": [
    "## Jack's game\n",
    "\n",
    "Yeah, now I'm on fire, let's score more and more, there must be infinite ways of doing this and... oh, Jack had to stop playing now, the day is ending. Too bad, time is over... our score was 3, that's good, better than Jack's average score, anyway. No matter how magical, sideful or sideless that toy is, his average score is never greater than 2, right?\n",
    "\n",
    "Actually, Jack's toy's number of sides is $n=4$ and his favorite number is 3. $E(score)=\\frac{n}{n-1}=4/3 = 1.3333333...$. We leave with a picture of the entire big unique game:"
   ]
  },
  {
   "cell_type": "code",
   "execution_count": 1,
   "metadata": {},
   "outputs": [],
   "source": [
    "import numpy as np; np.random.seed(3)\n",
    "\n",
    "result =[]\n",
    "iterations = 1000000\n",
    "\n",
    "for iteration in range(iterations):\n",
    "    release = 3\n",
    "    while release==3:\n",
    "        release = np.random.randint(0,4)\n",
    "        result.append(release)\n",
    "\n",
    "result = np.array(result)"
   ]
  },
  {
   "cell_type": "code",
   "execution_count": 2,
   "metadata": {},
   "outputs": [
    {
     "data": {
      "text/plain": [
       "array([2, 0, 1, 3, 0, 0, 0, 1, 1, 3, 2, 3, 1, 1, 2, 1, 3, 2, 0, 0, 0, 1,\n",
       "       3, 2, 0, 2, 1, 2, 2, 2, 2, 3, 0, 1, 3, 2, 1, 0, 2, 1, 1, 2, 0, 3,\n",
       "       2, 3, 0, 3, 1, 3, 3, 0, 1, 0, 2, 1, 1, 3, 2, 0, 0, 3, 2, 0, 0, 1,\n",
       "       2, 0, 3, 1, 0, 0, 3, 1, 1, 2, 1, 1, 1, 1, 1, 3, 2, 3, 0, 0, 3, 3,\n",
       "       0, 3, 0, 0, 0, 2, 2, 3, 3, 0, 3, 1])"
      ]
     },
     "execution_count": 2,
     "metadata": {},
     "output_type": "execute_result"
    }
   ],
   "source": [
    "result[:100]"
   ]
  },
  {
   "cell_type": "code",
   "execution_count": 3,
   "metadata": {},
   "outputs": [
    {
     "data": {
      "text/plain": [
       "1.333551"
      ]
     },
     "execution_count": 3,
     "metadata": {},
     "output_type": "execute_result"
    }
   ],
   "source": [
    "avg_score = len(result==3)/iterations\n",
    "avg_score"
   ]
  },
  {
   "cell_type": "markdown",
   "metadata": {},
   "source": [
    "And here is the biggest of Jack's scores:"
   ]
  },
  {
   "cell_type": "code",
   "execution_count": 4,
   "metadata": {},
   "outputs": [],
   "source": [
    "List_of_combos = []\n",
    "combo = 0\n",
    "\n",
    "for iteration in range(len(result)):\n",
    "    \n",
    "    if result[iteration]==3:\n",
    "        combo += 1\n",
    "    \n",
    "    if result[iteration] != 3:\n",
    "        if combo > 1:\n",
    "            List_of_combos.append(combo)\n",
    "            combo = 0\n",
    "\n",
    "List_of_combos = np.array(List_of_combos)"
   ]
  },
  {
   "cell_type": "code",
   "execution_count": 5,
   "metadata": {},
   "outputs": [
    {
     "data": {
      "text/plain": [
       "array([2, 2, 2, 2, 2, 2, 2, 2, 2, 2, 3, 2, 2, 2, 2, 2, 2, 3, 2, 2, 2, 2,\n",
       "       2, 2, 2, 3, 2, 2, 2, 3, 2, 2, 2, 2, 2, 4, 2, 2, 3, 2, 2, 2, 2, 2,\n",
       "       2, 2, 2, 2, 2, 2, 2, 5, 2, 2, 3, 2, 2, 2, 3, 2, 2, 3, 2, 2, 2, 3,\n",
       "       2, 2, 2, 2, 2, 2, 2, 3, 3, 2, 2, 2, 2, 2, 2, 2, 2, 2, 4, 4, 2, 2,\n",
       "       2, 2, 2, 3, 3, 2, 2, 2, 3, 3, 3, 4])"
      ]
     },
     "execution_count": 5,
     "metadata": {},
     "output_type": "execute_result"
    }
   ],
   "source": [
    "List_of_combos[:100]"
   ]
  },
  {
   "cell_type": "code",
   "execution_count": 6,
   "metadata": {},
   "outputs": [
    {
     "data": {
      "text/plain": [
       "10"
      ]
     },
     "execution_count": 6,
     "metadata": {},
     "output_type": "execute_result"
    }
   ],
   "source": [
    "List_of_combos.max()"
   ]
  },
  {
   "cell_type": "markdown",
   "metadata": {},
   "source": [
    "Wow, that must have been exciting to get!"
   ]
  }
 ],
 "metadata": {
  "kernelspec": {
   "display_name": "Python 3",
   "language": "python",
   "name": "python3"
  },
  "language_info": {
   "codemirror_mode": {
    "name": "ipython",
    "version": 3
   },
   "file_extension": ".py",
   "mimetype": "text/x-python",
   "name": "python",
   "nbconvert_exporter": "python",
   "pygments_lexer": "ipython3",
   "version": "3.7.3"
  }
 },
 "nbformat": 4,
 "nbformat_minor": 2
}
